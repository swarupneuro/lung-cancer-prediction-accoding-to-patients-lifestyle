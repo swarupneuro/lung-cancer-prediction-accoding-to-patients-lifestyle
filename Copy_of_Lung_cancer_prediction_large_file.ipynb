{
  "nbformat": 4,
  "nbformat_minor": 0,
  "metadata": {
    "colab": {
      "provenance": [],
      "authorship_tag": "ABX9TyNgtUyI4LdlPR5tHF2Wo0Zb",
      "include_colab_link": true
    },
    "kernelspec": {
      "name": "python3",
      "display_name": "Python 3"
    },
    "language_info": {
      "name": "python"
    }
  },
  "cells": [
    {
      "cell_type": "markdown",
      "metadata": {
        "id": "view-in-github",
        "colab_type": "text"
      },
      "source": [
        "<a href=\"https://colab.research.google.com/github/swarupneuro/desktop-tutorial/blob/main/Copy_of_Lung_cancer_prediction_large_file.ipynb\" target=\"_parent\"><img src=\"https://colab.research.google.com/assets/colab-badge.svg\" alt=\"Open In Colab\"/></a>"
      ]
    },
    {
      "cell_type": "code",
      "execution_count": 1,
      "metadata": {
        "colab": {
          "base_uri": "https://localhost:8080/"
        },
        "id": "Z9SfvUq5R326",
        "outputId": "db3fca2c-5f7c-4908-d2f0-592529ba9f92"
      },
      "outputs": [
        {
          "output_type": "stream",
          "name": "stdout",
          "text": [
            "Saved as: lung_cancer_predictions_large.csv\n",
            "   Age  Gender  Smoking  Yellow_Fingers  Anxiety  Peer_Pressure  \\\n",
            "0   39       1        0               0        0              0   \n",
            "1   64       1        0               1        1              0   \n",
            "2   36       0        0               1        1              1   \n",
            "3   27       0        0               1        0              1   \n",
            "4   79       0        0               1        1              0   \n",
            "\n",
            "   Chronic_Disease  Fatigue  Allergy  Wheezing  Alcohol  Coughing  \\\n",
            "0                1        0        0         0        0         0   \n",
            "1                0        1        1         0        1         0   \n",
            "2                0        0        0         1        0         0   \n",
            "3                1        1        1         1        0         1   \n",
            "4                1        1        1         1        0         1   \n",
            "\n",
            "   Lung_Cancer  Prediction  Prediction_Prob  \n",
            "0            0           0         0.038969  \n",
            "1            0           0         0.005114  \n",
            "2            0           0         0.037213  \n",
            "3            1           1         0.688783  \n",
            "4            1           1         0.685861  \n"
          ]
        }
      ],
      "source": [
        "import pandas as pd\n",
        "import random\n",
        "from sklearn.linear_model import LogisticRegression\n",
        "\n",
        "# Step 1: Generate synthetic lung cancer dataset\n",
        "def generate_lung_cancer_data(num_records=100):\n",
        "    data = {\n",
        "        \"Age\": [random.randint(25, 80) for _ in range(num_records)],\n",
        "        \"Gender\": [random.choice([0, 1]) for _ in range(num_records)],\n",
        "        \"Smoking\": [random.choice([0, 1]) for _ in range(num_records)],\n",
        "        \"Yellow_Fingers\": [random.choice([0, 1]) for _ in range(num_records)],\n",
        "        \"Anxiety\": [random.choice([0, 1]) for _ in range(num_records)],\n",
        "        \"Peer_Pressure\": [random.choice([0, 1]) for _ in range(num_records)],\n",
        "        \"Chronic_Disease\": [random.choice([0, 1]) for _ in range(num_records)],\n",
        "        \"Fatigue\": [random.choice([0, 1]) for _ in range(num_records)],\n",
        "        \"Allergy\": [random.choice([0, 1]) for _ in range(num_records)],\n",
        "        \"Wheezing\": [random.choice([0, 1]) for _ in range(num_records)],\n",
        "        \"Alcohol\": [random.choice([0, 1]) for _ in range(num_records)],\n",
        "        \"Coughing\": [random.choice([0, 1]) for _ in range(num_records)],\n",
        "    }\n",
        "\n",
        "    # Basic rule: high risk if sum of risk features > 2\n",
        "    data[\"Lung_Cancer\"] = [\n",
        "        1 if (\n",
        "            data[\"Smoking\"][i] +\n",
        "            data[\"Coughing\"][i] +\n",
        "            data[\"Chronic_Disease\"][i] +\n",
        "            data[\"Wheezing\"][i]\n",
        "        ) > 2 else 0 for i in range(num_records)\n",
        "    ]\n",
        "\n",
        "    return pd.DataFrame(data)\n",
        "\n",
        "# Step 2: Create dataset\n",
        "df = generate_lung_cancer_data(100)\n",
        "\n",
        "# Step 3: Train logistic regression model\n",
        "X = df.drop(\"Lung_Cancer\", axis=1)\n",
        "y = df[\"Lung_Cancer\"]\n",
        "\n",
        "model = LogisticRegression(max_iter=1000)\n",
        "model.fit(X, y)\n",
        "\n",
        "# Step 4: Predict\n",
        "df[\"Prediction\"] = model.predict(X)\n",
        "df[\"Prediction_Prob\"] = model.predict_proba(X)[:, 1]\n",
        "\n",
        "# Step 5: Save to CSV\n",
        "df.to_csv(\"lung_cancer_predictions_large.csv\", index=False)\n",
        "print(\"Saved as: lung_cancer_predictions_large.csv\")\n",
        "print(df.head())\n"
      ]
    },
    {
      "source": [
        "from google.colab import files\n",
        "# Change the filename to match the one used when saving the file\n",
        "files.download(\"lung_cancer_predictions_large.csv\")"
      ],
      "cell_type": "code",
      "metadata": {
        "colab": {
          "base_uri": "https://localhost:8080/",
          "height": 17
        },
        "id": "2gU_60zTXfFG",
        "outputId": "d2465d1e-d78b-4c3c-803a-1b63e1dc88cf"
      },
      "execution_count": 2,
      "outputs": [
        {
          "output_type": "display_data",
          "data": {
            "text/plain": [
              "<IPython.core.display.Javascript object>"
            ],
            "application/javascript": [
              "\n",
              "    async function download(id, filename, size) {\n",
              "      if (!google.colab.kernel.accessAllowed) {\n",
              "        return;\n",
              "      }\n",
              "      const div = document.createElement('div');\n",
              "      const label = document.createElement('label');\n",
              "      label.textContent = `Downloading \"${filename}\": `;\n",
              "      div.appendChild(label);\n",
              "      const progress = document.createElement('progress');\n",
              "      progress.max = size;\n",
              "      div.appendChild(progress);\n",
              "      document.body.appendChild(div);\n",
              "\n",
              "      const buffers = [];\n",
              "      let downloaded = 0;\n",
              "\n",
              "      const channel = await google.colab.kernel.comms.open(id);\n",
              "      // Send a message to notify the kernel that we're ready.\n",
              "      channel.send({})\n",
              "\n",
              "      for await (const message of channel.messages) {\n",
              "        // Send a message to notify the kernel that we're ready.\n",
              "        channel.send({})\n",
              "        if (message.buffers) {\n",
              "          for (const buffer of message.buffers) {\n",
              "            buffers.push(buffer);\n",
              "            downloaded += buffer.byteLength;\n",
              "            progress.value = downloaded;\n",
              "          }\n",
              "        }\n",
              "      }\n",
              "      const blob = new Blob(buffers, {type: 'application/binary'});\n",
              "      const a = document.createElement('a');\n",
              "      a.href = window.URL.createObjectURL(blob);\n",
              "      a.download = filename;\n",
              "      div.appendChild(a);\n",
              "      a.click();\n",
              "      div.remove();\n",
              "    }\n",
              "  "
            ]
          },
          "metadata": {}
        },
        {
          "output_type": "display_data",
          "data": {
            "text/plain": [
              "<IPython.core.display.Javascript object>"
            ],
            "application/javascript": [
              "download(\"download_3926e971-462c-46f9-82f6-7e51e6550f43\", \"lung_cancer_predictions_large.csv\", 5025)"
            ]
          },
          "metadata": {}
        }
      ]
    }
  ]
}